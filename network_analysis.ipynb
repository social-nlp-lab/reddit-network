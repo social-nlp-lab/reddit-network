{
 "cells": [
  {
   "cell_type": "code",
   "execution_count": 1,
   "metadata": {},
   "outputs": [],
   "source": [
    "import pandas as pd\n",
    "import numpy as np\n",
    "import pickle\n",
    "import networkx as nx\n",
    "import matplotlib.pyplot as plt\n"
   ]
  },
  {
   "cell_type": "code",
   "execution_count": 4,
   "metadata": {},
   "outputs": [],
   "source": [
    "lsd_edgelist = pickle.load(open('./data/lsd_edgelist.pkl', 'rb'))\n",
    "cocaine_edgelist = pickle.load(open('./data/cocaine_edgelist.pkl', 'rb'))\n",
    "opiates_edgelist = pickle.load(open('./data/opiates_edgelist.pkl', 'rb'))\n",
    "benzo_edgelist = pickle.load(open('./data/benzo_edgelist.pkl', 'rb'))"
   ]
  },
  {
   "cell_type": "code",
   "execution_count": 24,
   "metadata": {},
   "outputs": [],
   "source": [
    "# get centrality metrics\n",
    "lsd_graph = nx.from_pandas_edgelist(lsd_edgelist, 'source', 'target', edge_attr='weight')\n",
    "cocaine_graph = nx.from_pandas_edgelist(cocaine_edgelist, 'source', 'target', edge_attr='weight')\n",
    "opiates_graph = nx.from_pandas_edgelist(opiates_edgelist, 'source', 'target', edge_attr='weight')\n",
    "benzo_graph = nx.from_pandas_edgelist(benzo_edgelist, 'source', 'target', edge_attr='weight')"
   ]
  },
  {
   "cell_type": "code",
   "execution_count": 20,
   "metadata": {},
   "outputs": [
    {
     "name": "stdout",
     "output_type": "stream",
     "text": [
      "average degree:  153.91676528599606\n",
      "median degree:  103.0\n"
     ]
    },
    {
     "data": {
      "text/plain": [
       "(array([4.259e+03, 5.530e+02, 1.470e+02, 5.600e+01, 1.700e+01, 1.200e+01,\n",
       "        1.100e+01, 4.000e+00, 1.000e+00, 1.000e+00, 0.000e+00, 3.000e+00,\n",
       "        4.000e+00, 0.000e+00, 1.000e+00, 0.000e+00, 0.000e+00, 0.000e+00,\n",
       "        0.000e+00, 1.000e+00]),\n",
       " array([1.00000e+00, 2.22350e+02, 4.43700e+02, 6.65050e+02, 8.86400e+02,\n",
       "        1.10775e+03, 1.32910e+03, 1.55045e+03, 1.77180e+03, 1.99315e+03,\n",
       "        2.21450e+03, 2.43585e+03, 2.65720e+03, 2.87855e+03, 3.09990e+03,\n",
       "        3.32125e+03, 3.54260e+03, 3.76395e+03, 3.98530e+03, 4.20665e+03,\n",
       "        4.42800e+03]),\n",
       " <BarContainer object of 20 artists>)"
      ]
     },
     "execution_count": 20,
     "metadata": {},
     "output_type": "execute_result"
    },
    {
     "data": {
      "image/png": "[encoded data removed]",
      "text/plain": [
       "<Figure size 640x480 with 1 Axes>"
      ]
     },
     "metadata": {},
     "output_type": "display_data"
    }
   ],
   "source": [
    "# explore graph - hist degree\n",
    "lsd_degree = [val for (node, val) in lsd_graph.degree()]\n",
    "print('average degree: ', np.mean(lsd_degree))\n",
    "print('median degree: ', np.median(lsd_degree))\n",
    "plt.hist(lsd_degree, bins=20)"
   ]
  },
  {
   "cell_type": "markdown",
   "metadata": {},
   "source": [
    "#### Prune graphs\n",
    "\n",
    "can prune based on average degree or betweeness centrality  \n",
    "- https://stackoverflow.com/questions/18381187/functions-for-pruning-a-networkx-graph  \n",
    "\n",
    "Remove nodes with less than average degree would signifcantly reduce the number of nodes in the graph but make it more manageable.\n",
    "\n",
    "ex. LSD graph: 5070 nodes, 390179 edges\n",
    " prune by degree: 1805 nodes, 220710\n"
   ]
  },
  {
   "cell_type": "code",
   "execution_count": 25,
   "metadata": {},
   "outputs": [],
   "source": [
    "def prune_graph(graph):\n",
    "    # prune based on betweeness centrality https://stackoverflow.com/questions/18381187/functions-for-pruning-a-networkx-graph\n",
    "    # get betweenness centrality\n",
    "    # betweenness = nx.betweenness_centrality(graph)\n",
    "    # avg degree\n",
    "    avg_degree = np.mean([val for (node, val) in graph.degree()])\n",
    "    print('pre average degree: ', avg_degree)\n",
    "    rem = []\n",
    "    # prune\n",
    "    for n in graph.nodes():\n",
    "        if graph.degree(n) < avg_degree:\n",
    "            rem.append(n)\n",
    "    graph.remove_nodes_from(rem)\n",
    "    print('post average degree: ', np.mean([val for (node, val) in graph.degree()]))\n",
    "    return graph"
   ]
  },
  {
   "cell_type": "code",
   "execution_count": 26,
   "metadata": {},
   "outputs": [
    {
     "name": "stdout",
     "output_type": "stream",
     "text": [
      "pre average degree:  153.91676528599606\n",
      "post average degree:  244.5540166204986\n",
      "pre average degree:  114.95946763460375\n",
      "post average degree:  216.90459849004804\n",
      "pre average degree:  112.47497668635374\n",
      "post average degree:  194.3393574297189\n",
      "pre average degree:  131.56806998359758\n",
      "post average degree:  221.24338624338625\n"
     ]
    },
    {
     "data": {
      "text/plain": [
       "<networkx.classes.graph.Graph at 0x281ac3220>"
      ]
     },
     "execution_count": 26,
     "metadata": {},
     "output_type": "execute_result"
    }
   ],
   "source": [
    "prune_graph(lsd_graph)\n",
    "prune_graph(cocaine_graph)\n",
    "prune_graph(opiates_graph)\n",
    "prune_graph(benzo_graph)"
   ]
  },
  {
   "cell_type": "code",
   "execution_count": 28,
   "metadata": {},
   "outputs": [
    {
     "name": "stdout",
     "output_type": "stream",
     "text": [
      "lsd:  Graph with 1805 nodes and 220710 edges\n",
      "cocaine:  Graph with 1457 nodes and 158015 edges\n",
      "opiates:  Graph with 996 nodes and 96781 edges\n",
      "benzo:  Graph with 1134 nodes and 125445 edges\n"
     ]
    },
    {
     "name": "stderr",
     "output_type": "stream",
     "text": [
      "/var/folders/jj/bt0ykz9n5_16z2gvbybl0tbc0000gn/T/ipykernel_83034/3709570997.py:1: DeprecationWarning: info is deprecated and will be removed in version 3.0.\n",
      "\n",
      "  print('lsd: ', nx.info(lsd_graph))\n",
      "/var/folders/jj/bt0ykz9n5_16z2gvbybl0tbc0000gn/T/ipykernel_83034/3709570997.py:2: DeprecationWarning: info is deprecated and will be removed in version 3.0.\n",
      "\n",
      "  print('cocaine: ', nx.info(cocaine_graph))\n",
      "/var/folders/jj/bt0ykz9n5_16z2gvbybl0tbc0000gn/T/ipykernel_83034/3709570997.py:3: DeprecationWarning: info is deprecated and will be removed in version 3.0.\n",
      "\n",
      "  print('opiates: ', nx.info(opiates_graph))\n",
      "/var/folders/jj/bt0ykz9n5_16z2gvbybl0tbc0000gn/T/ipykernel_83034/3709570997.py:4: DeprecationWarning: info is deprecated and will be removed in version 3.0.\n",
      "\n",
      "  print('benzo: ', nx.info(benzo_graph))\n"
     ]
    }
   ],
   "source": [
    "print('lsd: ', nx.info(lsd_graph))\n",
    "print('cocaine: ', nx.info(cocaine_graph))\n",
    "print('opiates: ', nx.info(opiates_graph))\n",
    "print('benzo: ', nx.info(benzo_graph))"
   ]
  },
  {
   "cell_type": "code",
   "execution_count": 38,
   "metadata": {},
   "outputs": [],
   "source": [
    "# get centrality metrics of graphs - degree, betweenness, closeness, and eigenvector\n",
    "def get_centrality(G):\n",
    "    df = pd.DataFrame(columns=['node','degree', 'betweenness', 'closeness', 'eigenvector'])\n",
    "    degree = nx.degree_centrality(G)\n",
    "    betweenness = nx.betweenness_centrality(G)\n",
    "    closeness = nx.closeness_centrality(G)\n",
    "    eigenvector = nx.eigenvector_centrality(G, max_iter=1000)\n",
    "    df['node'] = degree.keys()\n",
    "    df['degree'] = degree.values()\n",
    "    df['betweenness'] = betweenness.values()\n",
    "    df['closeness'] = closeness.values()\n",
    "    df['eigenvector'] = eigenvector.values()\n",
    "    return df"
   ]
  },
  {
   "cell_type": "code",
   "execution_count": 39,
   "metadata": {},
   "outputs": [],
   "source": [
    "lsd_centrality = get_centrality(lsd_graph)\n",
    "opiates_cent = get_centrality(opiates_graph)\n",
    "cocaine_cent = get_centrality(cocaine_graph)\n",
    "benzo_cent = get_centrality(benzo_graph)"
   ]
  },
  {
   "cell_type": "code",
   "execution_count": 58,
   "metadata": {},
   "outputs": [
    {
     "name": "stdout",
     "output_type": "stream",
     "text": [
      "lsd:  1.8644790585402706\n",
      "cocaine:  1.8510270614766153\n",
      "opiates:  1.8047042441121268\n",
      "benzo:  1.8047278144365524\n"
     ]
    }
   ],
   "source": [
    "# average shortest path length\n",
    "print('lsd: ', nx.average_shortest_path_length(lsd_graph))\n",
    "print('cocaine: ', nx.average_shortest_path_length(cocaine_graph))\n",
    "print('opiates: ', nx.average_shortest_path_length(opiates_graph))\n",
    "print('benzo: ', nx.average_shortest_path_length(benzo_graph))"
   ]
  },
  {
   "cell_type": "markdown",
   "metadata": {},
   "source": [
    "Small world networks have two primary characteristics: a short average shortest path length and high clustering. our networks have a high clustering coefficient and a short average shortest path length. this means that the networks are small world networks."
   ]
  },
  {
   "cell_type": "markdown",
   "metadata": {},
   "source": [
    "### Community detection\n",
    "\n"
   ]
  },
  {
   "cell_type": "code",
   "execution_count": 41,
   "metadata": {},
   "outputs": [],
   "source": [
    "import community\n",
    "\n",
    "def get_communities(G, df):\n",
    "    partition = community.best_partition(G)\n",
    "    print(\"number of communities: \", len(set(partition.values())))\n",
    "    # add to G\n",
    "    nx.set_node_attributes(G, partition, \"community\")\n",
    "    # add partition to df\n",
    "    # df[\"community\"] = df[\"index\"].map(partition)\n",
    "    df[\"community\"] = df[\"node\"].map(partition)\n",
    "    return df, G\n"
   ]
  },
  {
   "cell_type": "code",
   "execution_count": 42,
   "metadata": {},
   "outputs": [
    {
     "name": "stdout",
     "output_type": "stream",
     "text": [
      "number of communities:  9\n"
     ]
    }
   ],
   "source": [
    "# get communities\n",
    "lsd_centrality, lsd_graph = get_communities(lsd_graph, lsd_centrality)"
   ]
  },
  {
   "cell_type": "code",
   "execution_count": 43,
   "metadata": {},
   "outputs": [
    {
     "name": "stdout",
     "output_type": "stream",
     "text": [
      "number of communities:  7\n",
      "number of communities:  7\n",
      "number of communities:  7\n"
     ]
    }
   ],
   "source": [
    "opiates_cent, opiates_graph = get_communities(opiates_graph, opiates_cent)\n",
    "cocaine_cent, cocaine_graph = get_communities(cocaine_graph, cocaine_cent)\n",
    "benzo_cent, benzo_graph = get_communities(benzo_graph, benzo_cent)"
   ]
  },
  {
   "cell_type": "code",
   "execution_count": 73,
   "metadata": {},
   "outputs": [],
   "source": [
    "import json\n",
    "# export just nodes as JSON- for topic modeling later\n",
    "# nodes as list\n",
    "lsd_nodes = list(lsd_graph.nodes())\n",
    "json.dump(lsd_nodes, open('./data/lsd_nodes.json', 'w'))\n",
    "opiate_nodes = list(opiates_graph.nodes())\n",
    "json.dump(opiate_nodes, open('./data/opiate_nodes.json', 'w'))\n",
    "cocaine_nodes = list(cocaine_graph.nodes())\n",
    "json.dump(cocaine_nodes, open('./data/cocaine_nodes.json', 'w'))\n",
    "benzo_nodes = list(benzo_graph.nodes())\n",
    "json.dump(benzo_nodes, open('./data/benzo_nodes.json', 'w'))"
   ]
  },
  {
   "cell_type": "code",
   "execution_count": null,
   "metadata": {},
   "outputs": [],
   "source": [
    "\n",
    "pickle.dump(lsd_centrality, open('./data/lsd_centrality.pkl', 'wb'))\n",
    "pickle.dump(opiates_cent, open('./data/opiates_centrality.pkl', 'wb'))\n",
    "pickle.dump(cocaine_cent, open('./data/cocaine_centrality.pkl', 'wb'))\n",
    "pickle.dump(benzo_cent, open('./data/benzo_centrality.pkl', 'wb'))"
   ]
  },
  {
   "cell_type": "markdown",
   "metadata": {},
   "source": [
    "---\n",
    "\n",
    "### Table 3\n",
    "#### Network statistics\n",
    "num nodes, num edges, avg degree, avg clustering, num communities, top nodes based on betweeness, closeness, degree, eigenvector centrality\n"
   ]
  },
  {
   "cell_type": "code",
   "execution_count": 53,
   "metadata": {},
   "outputs": [
    {
     "name": "stdout",
     "output_type": "stream",
     "text": [
      "benzo: num nodes: 1134 num edges:  125445 avg degree:  221.24338624338625 \n",
      " avg clustering:  0.7658853300148719 num communities:  7 \n",
      " top nodes: degree: [('Drugs', 1126), ('opiates', 1114), ('AskReddit', 1069), ('benzodiazepines', 1017), ('depression', 968), ('weed', 951)] top betweenness:  [('Drugs', 0.031633107451170844), ('opiates', 0.030500400985566774), ('AskReddit', 0.027060951225052855), ('benzodiazepines', 0.02366840473876205), ('depression', 0.020603500792611484), ('weed', 0.019886774120583723)] \n",
      " top closeness:  [('Drugs', 0.993859649122807), ('opiates', 0.9835069444444444), ('AskReddit', 0.9465329991645781), ('benzodiazepines', 0.9071257005604484), ('depression', 0.8728813559322034), ('weed', 0.8615969581749049)] top eigenvector:  [('Drugs', 0.1023371152828478), ('opiates', 0.10193230437781146), ('AskReddit', 0.09994949588321465), ('depression', 0.09421191790402503), ('MDMA', 0.0934608958348686), ('benzodiazepines', 0.09252510145644444)]\n"
     ]
    }
   ],
   "source": [
    "print('benzo: num nodes:',  benzo_graph.number_of_nodes(), 'num edges: ', benzo_graph.number_of_edges(), 'avg degree: ', np.mean([val for (node, val) in benzo_graph.degree()]), '\\n',\n",
    "      'avg clustering: ', nx.average_clustering(benzo_graph), 'num communities: ', len(set(nx.get_node_attributes(benzo_graph, 'community').values())),'\\n',\n",
    "      'top nodes: degree:', sorted(benzo_graph.degree, key=lambda x: x[1], reverse=True)[:6], 'top betweenness: ', sorted(nx.betweenness_centrality(benzo_graph).items(), key=lambda x: x[1], reverse=True)[:6],'\\n',\n",
    "      'top closeness: ', sorted(nx.closeness_centrality(benzo_graph).items(), key=lambda x: x[1], reverse=True)[:6], 'top eigenvector: ', sorted(nx.eigenvector_centrality(benzo_graph).items(), key=lambda x: x[1], reverse=True)[:6])"
   ]
  },
  {
   "cell_type": "code",
   "execution_count": 54,
   "metadata": {},
   "outputs": [
    {
     "name": "stdout",
     "output_type": "stream",
     "text": [
      "cocaine: num nodes: 1457 num edges:  158015 avg degree:  216.90459849004804 \n",
      " avg clustering:  0.7610082711098733 num communities:  7 \n",
      " top nodes: degree: [('Drugs', 1436), ('AskReddit', 1402), ('opiates', 1188), ('cocaine', 1176), ('benzodiazepines', 1110), ('LSD', 1108)] top betweenness:  [('Drugs', 0.039645413889823816), ('AskReddit', 0.03707256249186363), ('cocaine', 0.02448667033531217), ('opiates', 0.022993831275324464), ('LSD', 0.020264569671546682), ('benzodiazepines', 0.019150972073029977)] \n",
      " top closeness:  [('Drugs', 0.986449864498645), ('AskReddit', 0.9642384105960264), ('opiates', 0.8445475638051044), ('cocaine', 0.8387096774193549), ('benzodiazepines', 0.8079911209766926), ('LSD', 0.8070953436807096)] top eigenvector:  [('Drugs', 0.10385508506145531), ('AskReddit', 0.10283991743086114), ('depression', 0.08870518486074956), ('cocaine', 0.08830845148846725), ('opiates', 0.08775104359729381), ('Showerthoughts', 0.08221683192040077)]\n"
     ]
    }
   ],
   "source": [
    "print('cocaine: num nodes:',  cocaine_graph.number_of_nodes(), 'num edges: ', cocaine_graph.number_of_edges(), 'avg degree: ', np.mean([val for (node, val) in cocaine_graph.degree()]), '\\n',\n",
    "        'avg clustering: ', nx.average_clustering(cocaine_graph), 'num communities: ', len(set(nx.get_node_attributes(cocaine_graph, 'community').values())),'\\n',\n",
    "        'top nodes: degree:', sorted(cocaine_graph.degree, key=lambda x: x[1], reverse=True)[:6], 'top betweenness: ', sorted(nx.betweenness_centrality(cocaine_graph).items(), key=lambda x: x[1], reverse=True)[:6],'\\n',\n",
    "        'top closeness: ', sorted(nx.closeness_centrality(cocaine_graph).items(), key=lambda x: x[1], reverse=True)[:6], 'top eigenvector: ', sorted(nx.eigenvector_centrality(cocaine_graph).items(), key=lambda x: x[1], reverse=True)[:6])"
   ]
  },
  {
   "cell_type": "code",
   "execution_count": 55,
   "metadata": {},
   "outputs": [
    {
     "name": "stdout",
     "output_type": "stream",
     "text": [
      "lsd: num nodes: 1805 num edges:  220710 avg degree:  244.5540166204986 \n",
      " avg clustering:  0.7694483807393594 num communities:  9 \n",
      " top nodes: degree: [('LSD', 1735), ('weed', 1544), ('Psychonaut', 1520), ('shrooms', 1516), ('trees', 1488), ('AskReddit', 1411)] top betweenness:  [('LSD', 0.040736123935012324), ('weed', 0.03004628110106109), ('trees', 0.027290377384291603), ('Psychonaut', 0.026434640920886276), ('shrooms', 0.026321317413387103), ('Psychedelics', 0.0220489493323274)] \n",
      " top closeness:  [('LSD', 0.9631607047517352), ('weed', 0.874031007751938), ('Psychonaut', 0.8639846743295019), ('shrooms', 0.8623326959847036), ('trees', 0.8509433962264151), ('AskReddit', 0.8211197086936732)] top eigenvector:  [('LSD', 0.10711735350196191), ('weed', 0.09902170210488363), ('Psychonaut', 0.09821801500577616), ('shrooms', 0.09726377781779136), ('trees', 0.09713065263581282), ('DMT', 0.09328516127259258)]\n"
     ]
    }
   ],
   "source": [
    "print('lsd: num nodes:',  lsd_graph.number_of_nodes(), 'num edges: ', lsd_graph.number_of_edges(), 'avg degree: ', np.mean([val for (node, val) in lsd_graph.degree()]),'\\n',\n",
    "        'avg clustering: ', nx.average_clustering(lsd_graph), 'num communities: ', len(set(nx.get_node_attributes(lsd_graph, 'community').values())),'\\n',\n",
    "        'top nodes: degree:', sorted(lsd_graph.degree, key=lambda x: x[1], reverse=True)[:6], 'top betweenness: ', sorted(nx.betweenness_centrality(lsd_graph).items(), key=lambda x: x[1], reverse=True)[:6],'\\n',\n",
    "        'top closeness: ', sorted(nx.closeness_centrality(lsd_graph).items(), key=lambda x: x[1], reverse=True)[:6], 'top eigenvector: ', sorted(nx.eigenvector_centrality(lsd_graph).items(), key=lambda x: x[1], reverse=True)[:6])"
   ]
  },
  {
   "cell_type": "code",
   "execution_count": 56,
   "metadata": {},
   "outputs": [
    {
     "name": "stdout",
     "output_type": "stream",
     "text": [
      "opiates: num nodes: 996 num edges:  96781 avg degree:  194.3393574297189 \n",
      " avg clustering:  0.7779958285124204 num communities:  7 \n",
      " top nodes: degree: [('AskReddit', 909), ('LSD', 900), ('weed', 876), ('Drugs', 839), ('benzodiazepines', 829), ('opiates', 828)] top betweenness:  [('LSD', 0.029744179844127215), ('AskReddit', 0.02903531442550273), ('weed', 0.02691054683085193), ('Drugs', 0.025380958471896378), ('opiates', 0.02477275895469221), ('benzodiazepines', 0.024463899391280675)] \n",
      " top closeness:  [('AskReddit', 0.9204440333024977), ('LSD', 0.9128440366972477), ('weed', 0.8931777378815081), ('Drugs', 0.8644656820156386), ('benzodiazepines', 0.8570198105081827), ('opiates', 0.8562822719449226)] top eigenvector:  [('AskReddit', 0.09234438207540875), ('weed', 0.0903297585637751), ('LSD', 0.0901134368918837), ('Showerthoughts', 0.08740639371900767), ('AskDocs', 0.08602607290051845), ('NoStupidQuestions', 0.08468974814595065)]\n"
     ]
    }
   ],
   "source": [
    "print('opiates: num nodes:',  opiates_graph.number_of_nodes(), 'num edges: ', opiates_graph.number_of_edges(), 'avg degree: ', np.mean([val for (node, val) in opiates_graph.degree()]),'\\n',\n",
    "        'avg clustering: ', nx.average_clustering(opiates_graph), 'num communities: ', len(set(nx.get_node_attributes(opiates_graph, 'community').values())), '\\n',\n",
    "        'top nodes: degree:', sorted(opiates_graph.degree, key=lambda x: x[1], reverse=True)[:6], 'top betweenness: ', sorted(nx.betweenness_centrality(opiates_graph).items(), key=lambda x: x[1], reverse=True)[:6], '\\n',\n",
    "        'top closeness: ', sorted(nx.closeness_centrality(opiates_graph).items(), key=lambda x: x[1], reverse=True)[:6], 'top eigenvector: ', sorted(nx.eigenvector_centrality(opiates_graph).items(), key=lambda x: x[1], reverse=True)[:6])"
   ]
  },
  {
   "cell_type": "code",
   "execution_count": 48,
   "metadata": {},
   "outputs": [],
   "source": [
    "# export to gephi\n",
    "nx.write_gexf(lsd_graph, './gephi/lsd_graph.gexf')\n",
    "nx.write_gexf(cocaine_graph, './gephi/cocaine_graph.gexf')\n",
    "nx.write_gexf(opiates_graph, './gephi/opiates_graph.gexf')\n",
    "nx.write_gexf(benzo_graph, './gephi/benzo_graph.gexf')"
   ]
  }
 ],
 "metadata": {
  "kernelspec": {
   "display_name": "base",
   "language": "python",
   "name": "python3"
  },
  "language_info": {
   "codemirror_mode": {
    "name": "ipython",
    "version": 3
   },
   "file_extension": ".py",
   "mimetype": "text/x-python",
   "name": "python",
   "nbconvert_exporter": "python",
   "pygments_lexer": "ipython3",
   "version": "3.9.13"
  },
  "orig_nbformat": 4
 },
 "nbformat": 4,
 "nbformat_minor": 2
}
