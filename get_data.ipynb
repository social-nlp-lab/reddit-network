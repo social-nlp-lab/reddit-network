{
 "cells": [
  {
   "attachments": {},
   "cell_type": "markdown",
   "metadata": {},
   "source": [
    "Get usernames of all active users from each of 12 subreddits  \n",
    "02/22/23  \n",
    "[0]: # Path: recovery-network/get_data.ipynb"
   ]
  },
  {
   "cell_type": "code",
   "execution_count": 1,
   "metadata": {},
   "outputs": [],
   "source": [
    "import pandas as pd\n",
    "import numpy as np\n",
    "import matplotlib.pyplot as plt\n",
    "import json\n",
    "# do not print warnings\n",
    "import warnings\n",
    "warnings.filterwarnings('ignore')"
   ]
  },
  {
   "cell_type": "code",
   "execution_count": 2,
   "metadata": {},
   "outputs": [],
   "source": [
    "dat_path = \"/Users/laylabouzoubaa/Library/CloudStorage/OneDrive-DrexelUniversity/Social_NLP_Lab/Datasets/Reddit Drug Data- RAW - DNT/Central/data Dec 1st 2022/data 2018_1_1 to 2022_7_30_\"\n",
    "# subreddits = [\"opiates\", \"benzodiazepines\", \"stims\", \"MDMA\", \"cannabis\", \"Psychedelics\", \"LSD\", \"shrooms\", \"cocaine\", \"Autoflowers\", \"ambien\"]\n",
    "# subreddits = [\"opiates\", \"benzodiazepines\", \"stims\", \"MDMA\", \"Autoflowers\"]\n",
    "# subreddits = [\"opiates\", \"benzodiazepines\", \"stims\", \"cannabis\", \"Psychedelics\"]\n",
    "subreddits = [\"trees\", \"LSD\", \"benzodiazepines\", \"cocaine\", \"opiates\"]"
   ]
  },
  {
   "cell_type": "code",
   "execution_count": 3,
   "metadata": {},
   "outputs": [],
   "source": [
    "drug_info = [\"Autoflowers\"]\n",
    "seek_exp = []\n",
    "cont_use = [\"ambien\", \"opiates\", \"cocaine\", \"benzodiazepines\", \"stims\", \"shrooms\", \"LSD\", \"cannabis\", \"Psychedelics\"]\n",
    "stop_use = []\n",
    "harm_red = [\"MDMA\"]\n",
    "misc = []"
   ]
  },
  {
   "cell_type": "code",
   "execution_count": 4,
   "metadata": {},
   "outputs": [
    {
     "name": "stdout",
     "output_type": "stream",
     "text": [
      "trees\n",
      "No redditor data for trees\n",
      "LSD\n",
      "benzodiazepines\n",
      "cocaine\n",
      "opiates\n"
     ]
    }
   ],
   "source": [
    "# get redditor info for each subreddit\n",
    "users = pd.DataFrame()\n",
    "for subreddit in subreddits:\n",
    "    print(subreddit)\n",
    "    try:\n",
    "        df = pd.read_json(dat_path + subreddit + \"_redditor.json\", lines=True)\n",
    "        df = df[1][0]\n",
    "        df = pd.DataFrame(df)\n",
    "        df[\"subreddit\"] = subreddit\n",
    "        if subreddit in cont_use:\n",
    "            df[\"type\"] = \"IS_continue_use\"\n",
    "        elif subreddit in drug_info:\n",
    "            df[\"type\"] = \"Drug_info\"\n",
    "        elif subreddit in harm_red:\n",
    "            df[\"type\"] = \"Harm_reduction\"\n",
    "        # append to users\n",
    "        users = users.append(df)\n",
    "    except:\n",
    "        print(\"No redditor data for \" + subreddit)"
   ]
  },
  {
   "attachments": {},
   "cell_type": "markdown",
   "metadata": {},
   "source": [
    "### Bot filtering\n",
    "\n",
    "'Bot' in the name"
   ]
  },
  {
   "cell_type": "code",
   "execution_count": 6,
   "metadata": {},
   "outputs": [],
   "source": [
    "# remove users with  \"-bot\" in their name\n",
    "# users 974,309 rows\n",
    "# reduced users to 322,793\n",
    "bot_patterns = [\"-bot\", \"AutoModerator\", \"Bot\", \"BOT\", \"B0T\", \"b0t\", \"b0T\", \"bOt\", \"_bot\"]\n",
    "users = users[~users[\"name\"].str.contains('|'.join(bot_patterns))]\n",
    "# 2023-04-17 reduced to just 5 main class of drugs"
   ]
  },
  {
   "attachments": {},
   "cell_type": "markdown",
   "metadata": {},
   "source": [
    "Extremely high post and comment karma or extremely negative karma\n",
    "\n",
    "- sometimes the post and comment karma are the same, which is suspicious"
   ]
  },
  {
   "cell_type": "code",
   "execution_count": 7,
   "metadata": {},
   "outputs": [],
   "source": [
    "# calculate the total karma\n",
    "users[\"total_karma\"] = users[\"comment_karma\"] + users[\"post_karma\"]"
   ]
  },
  {
   "cell_type": "code",
   "execution_count": 8,
   "metadata": {},
   "outputs": [
    {
     "data": {
      "image/png": "[encoded data removed]",
      "text/plain": [
       "<Figure size 640x480 with 1 Axes>"
      ]
     },
     "metadata": {},
     "output_type": "display_data"
    }
   ],
   "source": [
    "# scatter plot of post karma vs comment karma\n",
    "plt.scatter(users[\"post_karma\"], users[\"comment_karma\"])\n",
    "plt.xlabel(\"Post Karma\")\n",
    "plt.ylabel(\"Comment Karma\")\n",
    "plt.title(\"Post Karma vs Comment Karma\")\n",
    "plt.show()"
   ]
  },
  {
   "attachments": {},
   "cell_type": "markdown",
   "metadata": {},
   "source": [
    "Accounts with negative total karma are likely to be bots"
   ]
  },
  {
   "cell_type": "code",
   "execution_count": 9,
   "metadata": {},
   "outputs": [],
   "source": [
    "# remove accounts with negative total karma\n",
    "users = users[users[\"total_karma\"] > 0]\n",
    "# now 254,669 rows"
   ]
  },
  {
   "cell_type": "code",
   "execution_count": 10,
   "metadata": {},
   "outputs": [
    {
     "name": "stdout",
     "output_type": "stream",
     "text": [
      "Identified outliers: 35899\n"
     ]
    }
   ],
   "source": [
    "# calculate the outlier cutoff\n",
    "# calculate interquartile range\n",
    "q25, q75 = np.percentile(users[\"total_karma\"], 25), np.percentile(users[\"total_karma\"], 75)\n",
    "iqr = q75 - q25\n",
    "# calculate the outlier cutoff\n",
    "cut_off = iqr * 1.5\n",
    "lower, upper = q25 - cut_off, q75 + cut_off\n",
    "# identify outliers\n",
    "outliers = [x for x in users[\"total_karma\"] if x < lower or x > upper]\n",
    "print('Identified outliers: %d' % len(outliers))"
   ]
  },
  {
   "attachments": {},
   "cell_type": "markdown",
   "metadata": {},
   "source": [
    "People with 0 post and comment karma are likely legitimate users but are lurkers and thus not useful for our purposes"
   ]
  },
  {
   "cell_type": "code",
   "execution_count": 11,
   "metadata": {},
   "outputs": [],
   "source": [
    "# remove outliers\n",
    "# users = users[users[\"post_karma\"] < upper]\n",
    "\n",
    "users = users[users[\"post_karma\"] > lower]\n",
    "# now 870,764 rows\n",
    "# now 285,941\n"
   ]
  },
  {
   "cell_type": "code",
   "execution_count": 12,
   "metadata": {},
   "outputs": [
    {
     "data": {
      "image/png": "[encoded data removed]",
      "text/plain": [
       "<Figure size 640x480 with 1 Axes>"
      ]
     },
     "metadata": {},
     "output_type": "display_data"
    }
   ],
   "source": [
    "# plot again\n",
    "plt.scatter(users[\"post_karma\"], users[\"comment_karma\"])\n",
    "plt.xlabel(\"Post Karma\")\n",
    "plt.ylabel(\"Comment Karma\")\n",
    "plt.title(\"Post Karma vs Comment Karma\")\n",
    "plt.show()"
   ]
  },
  {
   "attachments": {},
   "cell_type": "markdown",
   "metadata": {},
   "source": [
    "---\n",
    "### Get Metadata"
   ]
  },
  {
   "cell_type": "code",
   "execution_count": 12,
   "metadata": {},
   "outputs": [],
   "source": [
    "# get metadata for each user\n",
    "# import praw\n",
    "# from pmaw import PushshiftAPI\n",
    "\n",
    "# # source api credentials from file\n",
    "# file = 'py/api-creds.py'\n",
    "# exec(open(file).read())\n"
   ]
  },
  {
   "cell_type": "code",
   "execution_count": 23,
   "metadata": {},
   "outputs": [],
   "source": [
    "# def get_user_subs(user_id):\n",
    "#     redditor = reddit.redditor(user_id)\n",
    "#     user_subs = []\n",
    "#     for s in redditor.submissions.top(limit=None):\n",
    "#         user_subs.append(s.subreddit.display_name)\n",
    "#     return list(set(user_subs))"
   ]
  },
  {
   "cell_type": "code",
   "execution_count": 32,
   "metadata": {},
   "outputs": [],
   "source": [
    "# test func\n",
    "# test_s = get_user_subs(\"Greymarch\")"
   ]
  },
  {
   "attachments": {},
   "cell_type": "markdown",
   "metadata": {},
   "source": [
    "---\n",
    "\n",
    "### Multi-threading"
   ]
  },
  {
   "cell_type": "code",
   "execution_count": 33,
   "metadata": {},
   "outputs": [],
   "source": [
    "# reddit1 = reddit\n",
    "# reddit2 = reddit"
   ]
  },
  {
   "cell_type": "code",
   "execution_count": 19,
   "metadata": {},
   "outputs": [
    {
     "name": "stdout",
     "output_type": "stream",
     "text": [
      "10\n"
     ]
    }
   ],
   "source": [
    "# try using process\n",
    "# from multiprocessing import Process, Queue, Lock\n",
    "# import time\n",
    "# import os\n",
    "\n",
    "# num_processors = os.cpu_count()\n",
    "# print(num_processors)\n",
    "# num_threads = num_processors * 5\n"
   ]
  },
  {
   "cell_type": "code",
   "execution_count": 13,
   "metadata": {},
   "outputs": [
    {
     "name": "stdout",
     "output_type": "stream",
     "text": [
      "218044\n"
     ]
    }
   ],
   "source": [
    "# get unique list of user ids\n",
    "user_names = list(set(users[\"name\"]))\n",
    "print(len(user_names))"
   ]
  },
  {
   "cell_type": "code",
   "execution_count": 16,
   "metadata": {},
   "outputs": [],
   "source": [
    "# rake random sample of 20000 users\n",
    "# user_names_rand = list(np.random.choice(user_names, 20000, replace=False))"
   ]
  },
  {
   "attachments": {},
   "cell_type": "markdown",
   "metadata": {},
   "source": [
    "---\n",
    "Sampling\n",
    "\n",
    "make sure that the sample is representative of the population\n",
    "benzodiazepines - 136k, cannabis - 192k, opiates - 194k, stims - 127k, pyschdelics - 18k.\n",
    "total: 667k users\n",
    "proportions: 20.5%, 28.7%, 29.1%, 19.0%, 2.7%"
   ]
  },
  {
   "cell_type": "code",
   "execution_count": 14,
   "metadata": {},
   "outputs": [
    {
     "name": "stdout",
     "output_type": "stream",
     "text": [
      "opiates\n",
      "benzodiazepines\n",
      "stims\n",
      "cannabis\n",
      "Psychedelics\n"
     ]
    }
   ],
   "source": [
    "# get 1000 random, unique users from each subreddit\n",
    "# users5k = pd.DataFrame()\n",
    "# for subreddit in subreddits:\n",
    "#     print(subreddit)\n",
    "#     df = users[users[\"subreddit\"] == subreddit]\n",
    "#     df = df.sample(n=1000, replace=False)\n",
    "#     users5k = users5k.append(df)"
   ]
  },
  {
   "cell_type": "code",
   "execution_count": 29,
   "metadata": {},
   "outputs": [
    {
     "name": "stdout",
     "output_type": "stream",
     "text": [
      "opiates 1455\n",
      "benzodiazepines 1025\n",
      "stims 135\n",
      "cannabis 1435\n",
      "Psychedelics 950\n"
     ]
    }
   ],
   "source": [
    "# get users from each subreddit that represent the proportion in the population\n",
    "# total = 5000 users\n",
    "prop = {\"benzodiazepines\":.205, \"cannabis\": .287, \"opiates\": .291, \"Psychedelics\": .19, \"stims\": .027}\n",
    "users5k = pd.DataFrame()\n",
    "for subreddit in subreddits:\n",
    "    sample = int(prop[subreddit] * 5000)\n",
    "    print(subreddit, sample)\n",
    "    df = users[users[\"subreddit\"] == subreddit]\n",
    "    df = df.sample(n=sample, replace=False, random_state=1)\n",
    "    users5k = users_prop.append(df)\n"
   ]
  },
  {
   "cell_type": "code",
   "execution_count": 30,
   "metadata": {},
   "outputs": [],
   "source": [
    "# make sure the users are unique\n",
    "users5k = users5k.drop_duplicates(subset=\"name\", keep=\"first\")\n",
    "users5k_ls = users5k[\"name\"].tolist()\n",
    "# now 5000 rows"
   ]
  },
  {
   "cell_type": "code",
   "execution_count": 32,
   "metadata": {},
   "outputs": [],
   "source": [
    "# store to json\n",
    "with open(\"data/user_names5k.json\", \"w\") as f:\n",
    "    json.dump(users5k_ls, f)"
   ]
  },
  {
   "cell_type": "code",
   "execution_count": 34,
   "metadata": {},
   "outputs": [],
   "source": [
    "# save users table pickle\n",
    "users.to_pickle(\"data/users.pkl\")"
   ]
  }
 ],
 "metadata": {
  "kernelspec": {
   "display_name": "Python 3",
   "language": "python",
   "name": "python3"
  },
  "language_info": {
   "codemirror_mode": {
    "name": "ipython",
    "version": 3
   },
   "file_extension": ".py",
   "mimetype": "text/x-python",
   "name": "python",
   "nbconvert_exporter": "python",
   "pygments_lexer": "ipython3",
   "version": "3.9.13"
  },
  "orig_nbformat": 4,
  "vscode": {
   "interpreter": {
    "hash": "9368c0a12bf520716c0c4f259a27602b49dc562e49a779d524d90b4c1cdf86a3"
   }
  }
 },
 "nbformat": 4,
 "nbformat_minor": 2
}
