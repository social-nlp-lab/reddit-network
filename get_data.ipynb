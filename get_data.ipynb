{
 "cells": [
  {
   "attachments": {},
   "cell_type": "markdown",
   "metadata": {},
   "source": [
    "Get usernames of all active users from each of 12 subreddits  \n",
    "02/22/23  \n",
    "[0]: # Path: recovery-network/get_data.ipynb"
   ]
  },
  {
   "cell_type": "code",
   "execution_count": 1,
   "metadata": {},
   "outputs": [],
   "source": [
    "import pandas as pd\n",
    "import numpy as np\n",
    "import matplotlib.pyplot as plt\n",
    "import json\n",
    "# do not print warnings\n",
    "import warnings\n",
    "warnings.filterwarnings('ignore')"
   ]
  },
  {
   "cell_type": "code",
   "execution_count": 2,
   "metadata": {},
   "outputs": [],
   "source": [
    "dat_path = \"/Users/laylabouzoubaa/Library/CloudStorage/OneDrive-DrexelUniversity/Social_NLP_Lab/Datasets/Reddit Drug Data- RAW - DNT/Central/data Dec 1st 2022/data 2018_1_1 to 2022_7_30_\"\n",
    "subreddits = [\"opiates\", \"benzodiazepines\", \"stims\", \"MDMA\", \"cannabis\", \"Psychedelics\", \"LSD\", \"shrooms\", \"cocaine\", \"Autoflowers\", \"ambien\"]\n"
   ]
  },
  {
   "cell_type": "code",
   "execution_count": 3,
   "metadata": {},
   "outputs": [],
   "source": [
    "drug_info = [\"Autoflowers\"]\n",
    "seek_exp = []\n",
    "cont_use = [\"ambien\", \"opiates\", \"cocaine\", \"benzodiazepines\", \"stims\", \"shrooms\", \"LSD\", \"cannabis\", \"Psychedelics\"]\n",
    "stop_use = []\n",
    "harm_red = [\"MDMA\"]\n",
    "misc = []"
   ]
  },
  {
   "cell_type": "code",
   "execution_count": 4,
   "metadata": {},
   "outputs": [
    {
     "name": "stdout",
     "output_type": "stream",
     "text": [
      "opiates\n",
      "benzodiazepines\n",
      "stims\n",
      "MDMA\n",
      "cannabis\n",
      "Psychedelics\n",
      "LSD\n",
      "shrooms\n",
      "cocaine\n",
      "Autoflowers\n",
      "ambien\n"
     ]
    }
   ],
   "source": [
    "# get redditor info for each subreddit\n",
    "users = pd.DataFrame()\n",
    "for subreddit in subreddits:\n",
    "    print(subreddit)\n",
    "    try:\n",
    "        df = pd.read_json(dat_path + subreddit + \"_redditor.json\", lines=True)\n",
    "        df = df[1][0]\n",
    "        df = pd.DataFrame(df)\n",
    "        df[\"subreddit\"] = subreddit\n",
    "        if subreddit in cont_use:\n",
    "            df[\"type\"] = \"IS_continue_use\"\n",
    "        elif subreddit in drug_info:\n",
    "            df[\"type\"] = \"Drug_info\"\n",
    "        elif subreddit in harm_red:\n",
    "            df[\"type\"] = \"Harm_reduction\"\n",
    "        # append to users\n",
    "        users = users.append(df)\n",
    "    except:\n",
    "        print(\"No redditor data for \" + subreddit)"
   ]
  },
  {
   "attachments": {},
   "cell_type": "markdown",
   "metadata": {},
   "source": [
    "### Bot filtering\n",
    "\n",
    "'Bot' in the name"
   ]
  },
  {
   "cell_type": "code",
   "execution_count": 5,
   "metadata": {},
   "outputs": [],
   "source": [
    "# remove users with  \"-bot\" in their name\n",
    "# users 974,309 rows\n",
    "bot_patterns = [\"-bot\", \"AutoModerator\", \"Bot\", \"BOT\", \"B0T\", \"b0t\", \"b0T\", \"bOt\", \"_bot\"]\n",
    "users = users[~users[\"name\"].str.contains('|'.join(bot_patterns))]\n",
    "# now 972,393 rows"
   ]
  },
  {
   "attachments": {},
   "cell_type": "markdown",
   "metadata": {},
   "source": [
    "Extremely high post and comment karma or extremely negative karma\n",
    "\n",
    "- sometimes the post and comment karma are the same, which is suspicious"
   ]
  },
  {
   "cell_type": "code",
   "execution_count": 6,
   "metadata": {},
   "outputs": [],
   "source": [
    "# calculate the total karma\n",
    "users[\"total_karma\"] = users[\"comment_karma\"] + users[\"post_karma\"]"
   ]
  },
  {
   "cell_type": "code",
   "execution_count": 7,
   "metadata": {},
   "outputs": [
    {
     "data": {
      "image/png": "[encoded data removed]",
      "text/plain": [
       "<Figure size 640x480 with 1 Axes>"
      ]
     },
     "metadata": {},
     "output_type": "display_data"
    }
   ],
   "source": [
    "# scatter plot of post karma vs comment karma\n",
    "plt.scatter(users[\"post_karma\"], users[\"comment_karma\"])\n",
    "plt.xlabel(\"Post Karma\")\n",
    "plt.ylabel(\"Comment Karma\")\n",
    "plt.title(\"Post Karma vs Comment Karma\")\n",
    "plt.show()"
   ]
  },
  {
   "attachments": {},
   "cell_type": "markdown",
   "metadata": {},
   "source": [
    "Accounts with negative total karma are likely to be bots"
   ]
  },
  {
   "cell_type": "code",
   "execution_count": 8,
   "metadata": {},
   "outputs": [],
   "source": [
    "# remove accounts with negative total karma\n",
    "users = users[users[\"total_karma\"] > 0]\n",
    "# now 911,260 rows"
   ]
  },
  {
   "cell_type": "code",
   "execution_count": 9,
   "metadata": {},
   "outputs": [
    {
     "name": "stdout",
     "output_type": "stream",
     "text": [
      "Identified outliers: 125778\n"
     ]
    }
   ],
   "source": [
    "# calculate the outlier cutoff\n",
    "# calculate interquartile range\n",
    "q25, q75 = np.percentile(users[\"total_karma\"], 25), np.percentile(users[\"total_karma\"], 75)\n",
    "iqr = q75 - q25\n",
    "# calculate the outlier cutoff\n",
    "cut_off = iqr * 1.5\n",
    "lower, upper = q25 - cut_off, q75 + cut_off\n",
    "# identify outliers\n",
    "outliers = [x for x in users[\"total_karma\"] if x < lower or x > upper]\n",
    "print('Identified outliers: %d' % len(outliers))"
   ]
  },
  {
   "attachments": {},
   "cell_type": "markdown",
   "metadata": {},
   "source": [
    "People with 0 post and comment karma are likely legitimate users but are lurkers and thus not useful for our purposes"
   ]
  },
  {
   "cell_type": "code",
   "execution_count": 10,
   "metadata": {},
   "outputs": [],
   "source": [
    "# remove outliers\n",
    "users = users[users[\"post_karma\"] < upper]\n",
    "\n",
    "users = users[users[\"post_karma\"] > lower]\n",
    "# now 870,764 rows\n"
   ]
  },
  {
   "cell_type": "code",
   "execution_count": 11,
   "metadata": {},
   "outputs": [
    {
     "data": {
      "image/png": "[encoded data removed]",
      "text/plain": [
       "<Figure size 640x480 with 1 Axes>"
      ]
     },
     "metadata": {},
     "output_type": "display_data"
    }
   ],
   "source": [
    "# plot again\n",
    "plt.scatter(users[\"post_karma\"], users[\"comment_karma\"])\n",
    "plt.xlabel(\"Post Karma\")\n",
    "plt.ylabel(\"Comment Karma\")\n",
    "plt.title(\"Post Karma vs Comment Karma\")\n",
    "plt.show()"
   ]
  },
  {
   "attachments": {},
   "cell_type": "markdown",
   "metadata": {},
   "source": [
    "---\n",
    "### Get Metadata"
   ]
  },
  {
   "cell_type": "code",
   "execution_count": 16,
   "metadata": {},
   "outputs": [],
   "source": [
    "# get metadata for each user\n",
    "import praw\n",
    "from pmaw import PushshiftAPI\n",
    "\n",
    "# source api credentials from file\n",
    "file = 'py/api-creds.py'\n",
    "exec(open(file).read())\n"
   ]
  },
  {
   "cell_type": "code",
   "execution_count": 21,
   "metadata": {},
   "outputs": [
    {
     "name": "stdout",
     "output_type": "stream",
     "text": [
      "10\n"
     ]
    }
   ],
   "source": [
    "# set the multithreading parameter to 20\n",
    "# the number of processers on my computer times 5\n",
    "import os\n",
    "num_processors = os.cpu_count()\n",
    "print(num_processors)\n",
    "num_threads = num_processors * 5"
   ]
  },
  {
   "cell_type": "code",
   "execution_count": 23,
   "metadata": {},
   "outputs": [],
   "source": [
    "# set num_workers to num_threads for PMAW\n",
    "api = PushshiftAPI(num_workers = 50, praw = reddit)"
   ]
  },
  {
   "cell_type": "code",
   "execution_count": 64,
   "metadata": {},
   "outputs": [],
   "source": [
    "user_subreddits = []\n",
    "for user in users[\"name\"]:\n",
    "    try:\n",
    "        user_dat = []\n",
    "        redditor = reddit.redditor(user)\n",
    "        for subreddit in redditor.submissions.top(limit=None):\n",
    "            user_dat.append(subreddit.subreddit.display_name)\n",
    "        user_dat = list(set(user_dat))\n",
    "        user_subreddits.append(user_dat)\n",
    "    except:\n",
    "        user_subreddits.append(None)\n"
   ]
  },
  {
   "cell_type": "code",
   "execution_count": 57,
   "metadata": {},
   "outputs": [
    {
     "data": {
      "text/plain": [
       "['Diablo',\n",
       " 'self',\n",
       " 'researchchemicals',\n",
       " 'audiobooks',\n",
       " 'sniperelite5',\n",
       " 'AskDocs',\n",
       " 'Drugs',\n",
       " 'goldwing',\n",
       " 'FoodPorn',\n",
       " 'javascript',\n",
       " 'motorcycles',\n",
       " 'aww',\n",
       " 'opiates',\n",
       " 'webdev',\n",
       " 'keto',\n",
       " 'vstar',\n",
       " 'Coronavirus',\n",
       " 'medical',\n",
       " 'cardano',\n",
       " 'DrugNerds',\n",
       " 'ada_meme',\n",
       " 'cakeday',\n",
       " 'Triumph',\n",
       " 'Frontend',\n",
       " 'ChronicPain',\n",
       " 'learnjavascript',\n",
       " 'KeybaseProofs',\n",
       " 'gatsbyjs',\n",
       " 'Harley',\n",
       " 'CoronaVirusTX',\n",
       " 'shortwave',\n",
       " 'JoeRogan',\n",
       " 'VOIP',\n",
       " 'SuggestAMotorcycle',\n",
       " 'web_design',\n",
       " 'Vue',\n",
       " 'reactjs',\n",
       " 'Motorrad',\n",
       " 'backpain',\n",
       " 'Next']"
      ]
     },
     "execution_count": 57,
     "metadata": {},
     "output_type": "execute_result"
    }
   ],
   "source": [
    "blah2 = []\n",
    "for subreddit in redditor.submissions.top(limit=None):\n",
    "    x = subreddit.subreddit.display_name\n",
    "    # print the unique subreddit names\n",
    "    blah2.append(x)\n",
    "list(set(blah2))"
   ]
  },
  {
   "cell_type": "code",
   "execution_count": 44,
   "metadata": {},
   "outputs": [
    {
     "data": {
      "text/plain": [
       "'EnoughTrumpSpam'"
      ]
     },
     "execution_count": 44,
     "metadata": {},
     "output_type": "execute_result"
    }
   ],
   "source": [
    "# get names of subreddits\n",
    "blah2[1].display_name"
   ]
  },
  {
   "cell_type": "code",
   "execution_count": 30,
   "metadata": {},
   "outputs": [
    {
     "name": "stderr",
     "output_type": "stream",
     "text": [
      "/var/folders/jj/bt0ykz9n5_16z2gvbybl0tbc0000gn/T/ipykernel_12614/1338652586.py:3: DeprecationWarning: Positional arguments for 'BaseListingMixin.top' will no longer be supported in PRAW 8.\n",
      "Call this function with 'time_filter' as a keyword argument.\n",
      "  for submission in redditor.submissions.top('all'):\n"
     ]
    },
    {
     "name": "stdout",
     "output_type": "stream",
     "text": [
      "politics\n",
      "science\n",
      "pics\n",
      "u_BlankVerse\n",
      "nottheonion\n",
      "politics\n",
      "worldnews\n",
      "worldnews\n",
      "politics\n",
      "news\n",
      "worldnews\n",
      "nottheonion\n",
      "politics\n",
      "news\n",
      "politics\n",
      "politics\n",
      "politics\n",
      "news\n",
      "news\n",
      "politics\n",
      "Coronavirus\n",
      "UpliftingNews\n",
      "worldnews\n",
      "worldnews\n",
      "politics\n",
      "politics\n",
      "politics\n",
      "worldnews\n",
      "pics\n",
      "politics\n",
      "worldnews\n",
      "politics\n",
      "politics\n",
      "news\n",
      "Economics\n",
      "politics\n",
      "politics\n",
      "politics\n",
      "politics\n",
      "byebyejob\n",
      "entertainment\n",
      "books\n",
      "science\n",
      "politics\n",
      "news\n",
      "UpliftingNews\n",
      "worldnews\n",
      "news\n",
      "politics\n",
      "politics\n",
      "Coronavirus\n",
      "politics\n",
      "EverythingScience\n",
      "news\n",
      "UpliftingNews\n",
      "television\n",
      "UpliftingNews\n",
      "politics\n",
      "news\n",
      "news\n",
      "sports\n",
      "politics\n",
      "atheism\n",
      "Impeach_Trump\n",
      "politics\n",
      "UpliftingNews\n",
      "books\n",
      "Coronavirus\n",
      "news\n",
      "UpliftingNews\n",
      "politics\n",
      "politics\n",
      "worldnews\n",
      "politics\n",
      "Coronavirus\n",
      "Impeach_Trump\n",
      "worldnews\n",
      "space\n",
      "politics\n",
      "atheism\n",
      "UpliftingNews\n",
      "news\n",
      "sports\n",
      "Coronavirus\n",
      "Coronavirus\n",
      "politics\n",
      "UpliftingNews\n",
      "Impeach_Trump\n",
      "space\n",
      "politics\n",
      "politics\n",
      "politics\n",
      "EnoughTrumpSpam\n",
      "news\n",
      "politics\n",
      "politics\n",
      "politics\n",
      "Coronavirus\n",
      "Coronavirus\n",
      "politics\n"
     ]
    }
   ],
   "source": [
    "# top 100 of all time submissions\n",
    "\n",
    "for submission in redditor.submissions.top('all'):\n",
    "    print(submission.subreddit)"
   ]
  },
  {
   "cell_type": "code",
   "execution_count": null,
   "metadata": {},
   "outputs": [],
   "source": []
  }
 ],
 "metadata": {
  "kernelspec": {
   "display_name": "Python 3",
   "language": "python",
   "name": "python3"
  },
  "language_info": {
   "codemirror_mode": {
    "name": "ipython",
    "version": 3
   },
   "file_extension": ".py",
   "mimetype": "text/x-python",
   "name": "python",
   "nbconvert_exporter": "python",
   "pygments_lexer": "ipython3",
   "version": "3.9.13"
  },
  "orig_nbformat": 4,
  "vscode": {
   "interpreter": {
    "hash": "9368c0a12bf520716c0c4f259a27602b49dc562e49a779d524d90b4c1cdf86a3"
   }
  }
 },
 "nbformat": 4,
 "nbformat_minor": 2
}
